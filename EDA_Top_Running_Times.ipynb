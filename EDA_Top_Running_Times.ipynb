{
 "cells": [
  {
   "cell_type": "markdown",
   "id": "banner-macro",
   "metadata": {},
   "source": [
    "# Top Running Times EDA\n",
    "\n",
    "### Data Analysis on Top Running Times dataset\n",
    "\n",
    "<img src='data/track_and_field.jpg'\n",
    "         align='left'\n",
    "         width=700\n",
    "         height=300\n",
    "     />"
   ]
  },
  {
   "cell_type": "code",
   "execution_count": 10,
   "id": "prescription-efficiency",
   "metadata": {},
   "outputs": [],
   "source": [
    "# importing the libraries\n",
    "import pandas as pd\n",
    "import numpy as np\n",
    "import seaborn as sns\n",
    "import datetime\n",
    "import matplotlib.pyplot as plt"
   ]
  },
  {
   "cell_type": "code",
   "execution_count": 11,
   "id": "enabling-hawaiian",
   "metadata": {},
   "outputs": [
    {
     "data": {
      "text/html": [
       "<div>\n",
       "<style scoped>\n",
       "    .dataframe tbody tr th:only-of-type {\n",
       "        vertical-align: middle;\n",
       "    }\n",
       "\n",
       "    .dataframe tbody tr th {\n",
       "        vertical-align: top;\n",
       "    }\n",
       "\n",
       "    .dataframe thead th {\n",
       "        text-align: right;\n",
       "    }\n",
       "</style>\n",
       "<table border=\"1\" class=\"dataframe\">\n",
       "  <thead>\n",
       "    <tr style=\"text-align: right;\">\n",
       "      <th></th>\n",
       "      <th>Rank</th>\n",
       "      <th>Time</th>\n",
       "      <th>Name</th>\n",
       "      <th>Country</th>\n",
       "      <th>Date of Birth</th>\n",
       "      <th>Place</th>\n",
       "      <th>City</th>\n",
       "      <th>Date</th>\n",
       "      <th>Gender</th>\n",
       "      <th>Event</th>\n",
       "    </tr>\n",
       "  </thead>\n",
       "  <tbody>\n",
       "    <tr>\n",
       "      <th>0</th>\n",
       "      <td>1</td>\n",
       "      <td>00:01:40.910000</td>\n",
       "      <td>David Rudisha</td>\n",
       "      <td>KEN</td>\n",
       "      <td>1988-12-17</td>\n",
       "      <td>1.0</td>\n",
       "      <td>London</td>\n",
       "      <td>2012-09-08</td>\n",
       "      <td>Men</td>\n",
       "      <td>800 m</td>\n",
       "    </tr>\n",
       "    <tr>\n",
       "      <th>1</th>\n",
       "      <td>2</td>\n",
       "      <td>00:01:41.010000</td>\n",
       "      <td>David Rudisha</td>\n",
       "      <td>KEN</td>\n",
       "      <td>1988-12-17</td>\n",
       "      <td>1.0</td>\n",
       "      <td>Rieti</td>\n",
       "      <td>2010-08-29</td>\n",
       "      <td>Men</td>\n",
       "      <td>800 m</td>\n",
       "    </tr>\n",
       "    <tr>\n",
       "      <th>2</th>\n",
       "      <td>3</td>\n",
       "      <td>00:01:41.090000</td>\n",
       "      <td>David Rudisha</td>\n",
       "      <td>KEN</td>\n",
       "      <td>1988-12-17</td>\n",
       "      <td>1.0</td>\n",
       "      <td>Berlin</td>\n",
       "      <td>2010-08-22</td>\n",
       "      <td>Men</td>\n",
       "      <td>800 m</td>\n",
       "    </tr>\n",
       "    <tr>\n",
       "      <th>3</th>\n",
       "      <td>4</td>\n",
       "      <td>00:01:41.110000</td>\n",
       "      <td>Wilson Kipketer</td>\n",
       "      <td>DEN</td>\n",
       "      <td>1970-12-12</td>\n",
       "      <td>1.0</td>\n",
       "      <td>Köln</td>\n",
       "      <td>1997-08-24</td>\n",
       "      <td>Men</td>\n",
       "      <td>800 m</td>\n",
       "    </tr>\n",
       "    <tr>\n",
       "      <th>4</th>\n",
       "      <td>5</td>\n",
       "      <td>00:01:41.240000</td>\n",
       "      <td>Wilson Kipketer</td>\n",
       "      <td>DEN</td>\n",
       "      <td>1970-12-12</td>\n",
       "      <td>1.0</td>\n",
       "      <td>Zürich</td>\n",
       "      <td>1997-08-13</td>\n",
       "      <td>Men</td>\n",
       "      <td>800 m</td>\n",
       "    </tr>\n",
       "  </tbody>\n",
       "</table>\n",
       "</div>"
      ],
      "text/plain": [
       "   Rank             Time             Name Country Date of Birth  Place  \\\n",
       "0     1  00:01:40.910000    David Rudisha     KEN    1988-12-17    1.0   \n",
       "1     2  00:01:41.010000    David Rudisha     KEN    1988-12-17    1.0   \n",
       "2     3  00:01:41.090000    David Rudisha     KEN    1988-12-17    1.0   \n",
       "3     4  00:01:41.110000  Wilson Kipketer     DEN    1970-12-12    1.0   \n",
       "4     5  00:01:41.240000  Wilson Kipketer     DEN    1970-12-12    1.0   \n",
       "\n",
       "     City        Date Gender  Event  \n",
       "0  London  2012-09-08    Men  800 m  \n",
       "1   Rieti  2010-08-29    Men  800 m  \n",
       "2  Berlin  2010-08-22    Men  800 m  \n",
       "3    Köln  1997-08-24    Men  800 m  \n",
       "4  Zürich  1997-08-13    Men  800 m  "
      ]
     },
     "execution_count": 11,
     "metadata": {},
     "output_type": "execute_result"
    }
   ],
   "source": [
    "# read the data\n",
    "df = pd.read_csv('data/running_data.csv')\n",
    "df.head()                 "
   ]
  },
  {
   "cell_type": "code",
   "execution_count": 12,
   "id": "capital-acceptance",
   "metadata": {},
   "outputs": [
    {
     "data": {
      "text/plain": [
       "Rank             0\n",
       "Time             0\n",
       "Name             0\n",
       "Country          0\n",
       "Date of Birth    0\n",
       "Place            8\n",
       "City             0\n",
       "Date             0\n",
       "Gender           0\n",
       "Event            0\n",
       "dtype: int64"
      ]
     },
     "execution_count": 12,
     "metadata": {},
     "output_type": "execute_result"
    }
   ],
   "source": [
    "# Any null value?\n",
    "df.isnull().sum()"
   ]
  },
  {
   "cell_type": "code",
   "execution_count": 13,
   "id": "invisible-voltage",
   "metadata": {},
   "outputs": [
    {
     "name": "stdout",
     "output_type": "stream",
     "text": [
      "Start of observation period: 1962-03-02\n",
      "End of observation period: 2017-12-03\n"
     ]
    }
   ],
   "source": [
    "# Observation data. Credits to Alex Wittmann\n",
    "#Start Observation period\n",
    "print(\"Start of observation period:\",str(df[\"Date\"].min()))\n",
    "#End Observation period\n",
    "print(\"End of observation period:\",str(df[\"Date\"].max()))"
   ]
  },
  {
   "cell_type": "markdown",
   "id": "public-albert",
   "metadata": {},
   "source": [
    "### Marathon Event\n",
    "Let's explore some data in the marathon event"
   ]
  },
  {
   "cell_type": "code",
   "execution_count": 14,
   "id": "particular-ticket",
   "metadata": {},
   "outputs": [
    {
     "data": {
      "text/html": [
       "<div>\n",
       "<style scoped>\n",
       "    .dataframe tbody tr th:only-of-type {\n",
       "        vertical-align: middle;\n",
       "    }\n",
       "\n",
       "    .dataframe tbody tr th {\n",
       "        vertical-align: top;\n",
       "    }\n",
       "\n",
       "    .dataframe thead th {\n",
       "        text-align: right;\n",
       "    }\n",
       "</style>\n",
       "<table border=\"1\" class=\"dataframe\">\n",
       "  <thead>\n",
       "    <tr style=\"text-align: right;\">\n",
       "      <th></th>\n",
       "      <th>Rank</th>\n",
       "      <th>Time</th>\n",
       "      <th>Name</th>\n",
       "      <th>Country</th>\n",
       "      <th>Date of Birth</th>\n",
       "      <th>Place</th>\n",
       "      <th>City</th>\n",
       "      <th>Date</th>\n",
       "      <th>Gender</th>\n",
       "      <th>Event</th>\n",
       "    </tr>\n",
       "  </thead>\n",
       "  <tbody>\n",
       "    <tr>\n",
       "      <th>3001</th>\n",
       "      <td>1</td>\n",
       "      <td>02:02:57</td>\n",
       "      <td>Dennis Kimetto</td>\n",
       "      <td>KEN</td>\n",
       "      <td>1984-04-22</td>\n",
       "      <td>1.0</td>\n",
       "      <td>Berlin</td>\n",
       "      <td>2014-09-28</td>\n",
       "      <td>Men</td>\n",
       "      <td>Marathon</td>\n",
       "    </tr>\n",
       "    <tr>\n",
       "      <th>3002</th>\n",
       "      <td>2</td>\n",
       "      <td>02:03:02</td>\n",
       "      <td>Geoffrey Mutai</td>\n",
       "      <td>KEN</td>\n",
       "      <td>1981-10-07</td>\n",
       "      <td>1.0</td>\n",
       "      <td>Boston</td>\n",
       "      <td>2011-04-18</td>\n",
       "      <td>Men</td>\n",
       "      <td>Marathon</td>\n",
       "    </tr>\n",
       "    <tr>\n",
       "      <th>3003</th>\n",
       "      <td>3</td>\n",
       "      <td>02:03:03</td>\n",
       "      <td>Kenenisa Bekele</td>\n",
       "      <td>ETH</td>\n",
       "      <td>1982-06-13</td>\n",
       "      <td>1.0</td>\n",
       "      <td>Berlin</td>\n",
       "      <td>2016-09-25</td>\n",
       "      <td>Men</td>\n",
       "      <td>Marathon</td>\n",
       "    </tr>\n",
       "    <tr>\n",
       "      <th>3004</th>\n",
       "      <td>4</td>\n",
       "      <td>02:03:05</td>\n",
       "      <td>Eliud Kipchoge</td>\n",
       "      <td>KEN</td>\n",
       "      <td>1984-11-05</td>\n",
       "      <td>1.0</td>\n",
       "      <td>London</td>\n",
       "      <td>2016-04-24</td>\n",
       "      <td>Men</td>\n",
       "      <td>Marathon</td>\n",
       "    </tr>\n",
       "    <tr>\n",
       "      <th>3005</th>\n",
       "      <td>5</td>\n",
       "      <td>02:03:06</td>\n",
       "      <td>Moses Mosop</td>\n",
       "      <td>KEN</td>\n",
       "      <td>1985-07-17</td>\n",
       "      <td>2.0</td>\n",
       "      <td>Boston</td>\n",
       "      <td>2011-04-18</td>\n",
       "      <td>Men</td>\n",
       "      <td>Marathon</td>\n",
       "    </tr>\n",
       "  </tbody>\n",
       "</table>\n",
       "</div>"
      ],
      "text/plain": [
       "      Rank      Time             Name Country Date of Birth  Place    City  \\\n",
       "3001     1  02:02:57   Dennis Kimetto     KEN    1984-04-22    1.0  Berlin   \n",
       "3002     2  02:03:02   Geoffrey Mutai     KEN    1981-10-07    1.0  Boston   \n",
       "3003     3  02:03:03  Kenenisa Bekele     ETH    1982-06-13    1.0  Berlin   \n",
       "3004     4  02:03:05   Eliud Kipchoge     KEN    1984-11-05    1.0  London   \n",
       "3005     5  02:03:06      Moses Mosop     KEN    1985-07-17    2.0  Boston   \n",
       "\n",
       "            Date Gender     Event  \n",
       "3001  2014-09-28    Men  Marathon  \n",
       "3002  2011-04-18    Men  Marathon  \n",
       "3003  2016-09-25    Men  Marathon  \n",
       "3004  2016-04-24    Men  Marathon  \n",
       "3005  2011-04-18    Men  Marathon  "
      ]
     },
     "execution_count": 14,
     "metadata": {},
     "output_type": "execute_result"
    }
   ],
   "source": [
    "df[df.Event == 'Marathon'].head()"
   ]
  },
  {
   "cell_type": "code",
   "execution_count": 19,
   "id": "absent-picking",
   "metadata": {
    "scrolled": true
   },
   "outputs": [],
   "source": [
    "# Which countries has won more medals in the marathon event?\n",
    "medals_m = df[df.Event == 'Marathon'].loc[df.Place <= 3.0].groupby(['Country'], as_index=False).size()\n"
   ]
  },
  {
   "cell_type": "code",
   "execution_count": 20,
   "id": "aerial-cache",
   "metadata": {},
   "outputs": [
    {
     "name": "stdout",
     "output_type": "stream",
     "text": [
      "   Country  size\n",
      "6      CHN    39\n",
      "10     ESP    19\n",
      "11     ETH   371\n",
      "13     GBR    17\n",
      "14     GER    21\n",
      "16     ITA    14\n",
      "17     JPN   123\n",
      "18     KEN   616\n",
      "22     MAR    25\n",
      "25     NOR    12\n",
      "27     POR    21\n",
      "30     ROU    14\n",
      "31     RSA    13\n",
      "32     RUS    41\n",
      "40     USA    19\n"
     ]
    }
   ],
   "source": [
    "# Which country has more than 10 medals in the marathon event?\n",
    "ten_medals = medals_m[medals_m['size'] > 10]\n",
    "print(ten_medals)"
   ]
  },
  {
   "cell_type": "code",
   "execution_count": 21,
   "id": "lightweight-killing",
   "metadata": {},
   "outputs": [
    {
     "data": {
      "text/plain": [
       "Text(0.5, 1.0, 'Countries with more than 10 Marathon medals')"
      ]
     },
     "execution_count": 21,
     "metadata": {},
     "output_type": "execute_result"
    },
    {
     "data": {
      "image/png": "[encoded data removed]",
      "text/plain": [
       "<Figure size 1080x504 with 1 Axes>"
      ]
     },
     "metadata": {
      "needs_background": "light"
     },
     "output_type": "display_data"
    }
   ],
   "source": [
    "# Plot the data\n",
    "fig, bar = plt.subplots(figsize = (15,7))\n",
    "bar = sns.barplot(data=ten_medals, x='Country', y='size')\n",
    "bar.set_title('Countries with more than 10 Marathon medals',fontdict= { 'fontsize': 14, 'fontweight':'bold'})"
   ]
  },
  {
   "cell_type": "code",
   "execution_count": 24,
   "id": "progressive-pointer",
   "metadata": {},
   "outputs": [
    {
     "data": {
      "text/plain": [
       "2012    204\n",
       "2015    163\n",
       "2014    163\n",
       "2011    155\n",
       "2016    148\n",
       "Name: Date, dtype: int64"
      ]
     },
     "execution_count": 24,
     "metadata": {},
     "output_type": "execute_result"
    }
   ],
   "source": [
    "# Performances in the marathon event\n",
    "df['Date'] = pd.to_datetime(df['Date'], infer_datetime_format=True)\n",
    "get_year = df[df.Event == 'Marathon']['Date'].dt.year\n",
    "\n",
    "# Number of performances per year\n",
    "get_year_perf = get_year.value_counts()\n",
    "get_year_perf.head()"
   ]
  },
  {
   "cell_type": "code",
   "execution_count": 27,
   "id": "advanced-recognition",
   "metadata": {},
   "outputs": [
    {
     "data": {
      "image/png": "[encoded data removed]",
      "text/plain": [
       "<Figure size 1080x504 with 1 Axes>"
      ]
     },
     "metadata": {},
     "output_type": "display_data"
    }
   ],
   "source": [
    "def performance():\n",
    "    get_year_perf.sort_index()[:-1].plot(figsize=(15, 7))\n",
    "    plt.title('Performances in marathon event')\n",
    "    plt.xlabel('Year')\n",
    "    plt.ylabel('Performances')\n",
    "    plt.grid(ls = 'dotted')\n",
    "    plt.style.use('dark_background')\n",
    "    plt.xticks(range(1980,2017),rotation=45)\n",
    "    plt.axvline(get_year_perf.idxmax(), ls='dashed',ymax=1/1.1)\n",
    "    plt.show()\n",
    "performance()    "
   ]
  },
  {
   "cell_type": "markdown",
   "id": "decent-insurance",
   "metadata": {},
   "source": [
    "### 1500 meters\n",
    "Exploring the 1500 m event"
   ]
  },
  {
   "cell_type": "code",
   "execution_count": 28,
   "id": "structural-clock",
   "metadata": {},
   "outputs": [
    {
     "data": {
      "text/html": [
       "<div>\n",
       "<style scoped>\n",
       "    .dataframe tbody tr th:only-of-type {\n",
       "        vertical-align: middle;\n",
       "    }\n",
       "\n",
       "    .dataframe tbody tr th {\n",
       "        vertical-align: top;\n",
       "    }\n",
       "\n",
       "    .dataframe thead th {\n",
       "        text-align: right;\n",
       "    }\n",
       "</style>\n",
       "<table border=\"1\" class=\"dataframe\">\n",
       "  <thead>\n",
       "    <tr style=\"text-align: right;\">\n",
       "      <th></th>\n",
       "      <th>Rank</th>\n",
       "      <th>Time</th>\n",
       "      <th>Name</th>\n",
       "      <th>Country</th>\n",
       "      <th>Date of Birth</th>\n",
       "      <th>Place</th>\n",
       "      <th>City</th>\n",
       "      <th>Date</th>\n",
       "      <th>Gender</th>\n",
       "      <th>Event</th>\n",
       "    </tr>\n",
       "  </thead>\n",
       "  <tbody>\n",
       "    <tr>\n",
       "      <th>11230</th>\n",
       "      <td>1</td>\n",
       "      <td>00:03:50.070000</td>\n",
       "      <td>Genzebe Dibaba</td>\n",
       "      <td>ETH</td>\n",
       "      <td>1991-08-02</td>\n",
       "      <td>1.0</td>\n",
       "      <td>Monaco</td>\n",
       "      <td>2015-07-17</td>\n",
       "      <td>Women</td>\n",
       "      <td>1500 m</td>\n",
       "    </tr>\n",
       "    <tr>\n",
       "      <th>11231</th>\n",
       "      <td>2</td>\n",
       "      <td>00:03:50.460000</td>\n",
       "      <td>Qu Yunxia</td>\n",
       "      <td>CHN</td>\n",
       "      <td>1972-12-25</td>\n",
       "      <td>1.0</td>\n",
       "      <td>Beijing</td>\n",
       "      <td>1993-09-11</td>\n",
       "      <td>Women</td>\n",
       "      <td>1500 m</td>\n",
       "    </tr>\n",
       "    <tr>\n",
       "      <th>11232</th>\n",
       "      <td>3</td>\n",
       "      <td>00:03:50.980000</td>\n",
       "      <td>Jiang Bo</td>\n",
       "      <td>CHN</td>\n",
       "      <td>1977-03-13</td>\n",
       "      <td>1.0</td>\n",
       "      <td>Shanghai</td>\n",
       "      <td>1997-10-18</td>\n",
       "      <td>Women</td>\n",
       "      <td>1500 m</td>\n",
       "    </tr>\n",
       "    <tr>\n",
       "      <th>11233</th>\n",
       "      <td>4</td>\n",
       "      <td>00:03:51.340000</td>\n",
       "      <td>Lang Yinglai</td>\n",
       "      <td>CHN</td>\n",
       "      <td>1979-08-22</td>\n",
       "      <td>2.0</td>\n",
       "      <td>Shanghai</td>\n",
       "      <td>1997-10-18</td>\n",
       "      <td>Women</td>\n",
       "      <td>1500 m</td>\n",
       "    </tr>\n",
       "    <tr>\n",
       "      <th>11234</th>\n",
       "      <td>5</td>\n",
       "      <td>00:03:51.920000</td>\n",
       "      <td>Wang Junxia</td>\n",
       "      <td>CHN</td>\n",
       "      <td>1973-09-01</td>\n",
       "      <td>2.0</td>\n",
       "      <td>Beijing</td>\n",
       "      <td>1993-09-11</td>\n",
       "      <td>Women</td>\n",
       "      <td>1500 m</td>\n",
       "    </tr>\n",
       "  </tbody>\n",
       "</table>\n",
       "</div>"
      ],
      "text/plain": [
       "       Rank             Time            Name Country Date of Birth  Place  \\\n",
       "11230     1  00:03:50.070000  Genzebe Dibaba     ETH    1991-08-02    1.0   \n",
       "11231     2  00:03:50.460000       Qu Yunxia     CHN    1972-12-25    1.0   \n",
       "11232     3  00:03:50.980000        Jiang Bo     CHN    1977-03-13    1.0   \n",
       "11233     4  00:03:51.340000    Lang Yinglai     CHN    1979-08-22    2.0   \n",
       "11234     5  00:03:51.920000     Wang Junxia     CHN    1973-09-01    2.0   \n",
       "\n",
       "           City       Date Gender   Event  \n",
       "11230    Monaco 2015-07-17  Women  1500 m  \n",
       "11231   Beijing 1993-09-11  Women  1500 m  \n",
       "11232  Shanghai 1997-10-18  Women  1500 m  \n",
       "11233  Shanghai 1997-10-18  Women  1500 m  \n",
       "11234   Beijing 1993-09-11  Women  1500 m  "
      ]
     },
     "execution_count": 28,
     "metadata": {},
     "output_type": "execute_result"
    }
   ],
   "source": [
    "df[df.Event == '1500 m'].head()"
   ]
  },
  {
   "cell_type": "code",
   "execution_count": 29,
   "id": "choice-cement",
   "metadata": {},
   "outputs": [
    {
     "name": "stdout",
     "output_type": "stream",
     "text": [
      "11230    00:03:50.070000\n",
      "Name: Time, dtype: object\n"
     ]
    }
   ],
   "source": [
    "best_time_women = df[df.Event == '1500 m'].loc[df.Gender == 'Women'].loc[df.Rank == 1].Time\n",
    "print(best_time_women)"
   ]
  },
  {
   "cell_type": "code",
   "execution_count": 30,
   "id": "sound-force",
   "metadata": {
    "scrolled": true
   },
   "outputs": [
    {
     "name": "stdout",
     "output_type": "stream",
     "text": [
      "   Country  size\n",
      "0      ALG    75\n",
      "1      AUS     6\n",
      "2      BDI    22\n",
      "3      BLR    16\n",
      "4      BRN    48\n",
      "5      BUL     7\n",
      "6      CAN     6\n",
      "7      CHN    24\n",
      "8      CZE     1\n",
      "9      DJI    10\n",
      "10     ESP    35\n",
      "11     ETH    64\n",
      "12     FRA    27\n",
      "13     FRG     6\n",
      "14     GBR    66\n",
      "15     GDR    26\n",
      "16     GER     5\n",
      "17     IRL    10\n",
      "18     ITA     7\n",
      "19     JAM     1\n",
      "20     KEN   311\n",
      "21     KSA     1\n",
      "22     LTU     2\n",
      "23     MAR   115\n",
      "24     MDA     2\n",
      "25     MOZ     1\n",
      "26     NED    15\n",
      "27     NOR     1\n",
      "28     NZL     4\n",
      "29     POL     6\n",
      "30     POR    13\n",
      "31     QAT     3\n",
      "32     ROU    95\n",
      "33     RSA     4\n",
      "34     RUS   181\n",
      "35     SLO     1\n",
      "36     SOM     7\n",
      "37     SUD     1\n",
      "38     SUI     7\n",
      "39     SWE     8\n",
      "40     TAN     1\n",
      "41     TJK     3\n",
      "42     TUR    12\n",
      "43     UKR    44\n",
      "44     USA   100\n",
      "45     UZB    12\n"
     ]
    }
   ],
   "source": [
    "# Which countries has won more medals in the 1500 m event?\n",
    "medals_1500 = df[df.Event == '1500 m'].loc[df.Place <= 3.0].groupby(['Country'], as_index=False).size()\n",
    "print(medals_1500)"
   ]
  },
  {
   "cell_type": "code",
   "execution_count": 31,
   "id": "naughty-layer",
   "metadata": {},
   "outputs": [
    {
     "name": "stdout",
     "output_type": "stream",
     "text": [
      "   Country  size\n",
      "0      ALG    75\n",
      "11     ETH    64\n",
      "14     GBR    66\n",
      "20     KEN   311\n",
      "23     MAR   115\n",
      "32     ROU    95\n",
      "34     RUS   181\n",
      "44     USA   100\n"
     ]
    }
   ],
   "source": [
    "# Which country has won more than 50 medals in the 1500 event?\n",
    "fifty_medals_1500 = medals_1500[medals_1500['size'] > 50]\n",
    "print(fifty_medals_1500)"
   ]
  },
  {
   "cell_type": "code",
   "execution_count": 32,
   "id": "champion-booking",
   "metadata": {},
   "outputs": [
    {
     "data": {
      "text/plain": [
       "Text(0.5, 1.0, 'Countries with more than 50 medals')"
      ]
     },
     "execution_count": 32,
     "metadata": {},
     "output_type": "execute_result"
    },
    {
     "data": {
      "image/png": "[encoded data removed]",
      "text/plain": [
       "<Figure size 1080x504 with 1 Axes>"
      ]
     },
     "metadata": {},
     "output_type": "display_data"
    }
   ],
   "source": [
    "# Plotting the data\n",
    "fig, bar = plt.subplots(figsize = (15,7))\n",
    "bar = sns.barplot(data=fifty_medals_1500, x='Country', y='size')\n",
    "bar.set_title('Countries with more than 50 medals',fontdict= {'fontsize': 14, 'fontweight':'bold'})"
   ]
  },
  {
   "cell_type": "code",
   "execution_count": 33,
   "id": "veterinary-plain",
   "metadata": {},
   "outputs": [
    {
     "data": {
      "text/html": [
       "<div>\n",
       "<style scoped>\n",
       "    .dataframe tbody tr th:only-of-type {\n",
       "        vertical-align: middle;\n",
       "    }\n",
       "\n",
       "    .dataframe tbody tr th {\n",
       "        vertical-align: top;\n",
       "    }\n",
       "\n",
       "    .dataframe thead th {\n",
       "        text-align: right;\n",
       "    }\n",
       "</style>\n",
       "<table border=\"1\" class=\"dataframe\">\n",
       "  <thead>\n",
       "    <tr style=\"text-align: right;\">\n",
       "      <th></th>\n",
       "      <th>Rank</th>\n",
       "      <th>Time</th>\n",
       "      <th>Name</th>\n",
       "      <th>Country</th>\n",
       "      <th>Date of Birth</th>\n",
       "      <th>Place</th>\n",
       "      <th>City</th>\n",
       "      <th>Date</th>\n",
       "      <th>Gender</th>\n",
       "      <th>Event</th>\n",
       "      <th>Age</th>\n",
       "    </tr>\n",
       "  </thead>\n",
       "  <tbody>\n",
       "    <tr>\n",
       "      <th>0</th>\n",
       "      <td>1</td>\n",
       "      <td>00:01:40.910000</td>\n",
       "      <td>David Rudisha</td>\n",
       "      <td>KEN</td>\n",
       "      <td>1988-12-17</td>\n",
       "      <td>1.0</td>\n",
       "      <td>London</td>\n",
       "      <td>2012-09-08</td>\n",
       "      <td>Men</td>\n",
       "      <td>800 m</td>\n",
       "      <td>23</td>\n",
       "    </tr>\n",
       "    <tr>\n",
       "      <th>1</th>\n",
       "      <td>2</td>\n",
       "      <td>00:01:41.010000</td>\n",
       "      <td>David Rudisha</td>\n",
       "      <td>KEN</td>\n",
       "      <td>1988-12-17</td>\n",
       "      <td>1.0</td>\n",
       "      <td>Rieti</td>\n",
       "      <td>2010-08-29</td>\n",
       "      <td>Men</td>\n",
       "      <td>800 m</td>\n",
       "      <td>21</td>\n",
       "    </tr>\n",
       "    <tr>\n",
       "      <th>2</th>\n",
       "      <td>3</td>\n",
       "      <td>00:01:41.090000</td>\n",
       "      <td>David Rudisha</td>\n",
       "      <td>KEN</td>\n",
       "      <td>1988-12-17</td>\n",
       "      <td>1.0</td>\n",
       "      <td>Berlin</td>\n",
       "      <td>2010-08-22</td>\n",
       "      <td>Men</td>\n",
       "      <td>800 m</td>\n",
       "      <td>21</td>\n",
       "    </tr>\n",
       "    <tr>\n",
       "      <th>3</th>\n",
       "      <td>4</td>\n",
       "      <td>00:01:41.110000</td>\n",
       "      <td>Wilson Kipketer</td>\n",
       "      <td>DEN</td>\n",
       "      <td>1970-12-12</td>\n",
       "      <td>1.0</td>\n",
       "      <td>Köln</td>\n",
       "      <td>1997-08-24</td>\n",
       "      <td>Men</td>\n",
       "      <td>800 m</td>\n",
       "      <td>26</td>\n",
       "    </tr>\n",
       "    <tr>\n",
       "      <th>4</th>\n",
       "      <td>5</td>\n",
       "      <td>00:01:41.240000</td>\n",
       "      <td>Wilson Kipketer</td>\n",
       "      <td>DEN</td>\n",
       "      <td>1970-12-12</td>\n",
       "      <td>1.0</td>\n",
       "      <td>Zürich</td>\n",
       "      <td>1997-08-13</td>\n",
       "      <td>Men</td>\n",
       "      <td>800 m</td>\n",
       "      <td>26</td>\n",
       "    </tr>\n",
       "  </tbody>\n",
       "</table>\n",
       "</div>"
      ],
      "text/plain": [
       "   Rank             Time             Name Country Date of Birth  Place  \\\n",
       "0     1  00:01:40.910000    David Rudisha     KEN    1988-12-17    1.0   \n",
       "1     2  00:01:41.010000    David Rudisha     KEN    1988-12-17    1.0   \n",
       "2     3  00:01:41.090000    David Rudisha     KEN    1988-12-17    1.0   \n",
       "3     4  00:01:41.110000  Wilson Kipketer     DEN    1970-12-12    1.0   \n",
       "4     5  00:01:41.240000  Wilson Kipketer     DEN    1970-12-12    1.0   \n",
       "\n",
       "     City       Date Gender  Event  Age  \n",
       "0  London 2012-09-08    Men  800 m   23  \n",
       "1   Rieti 2010-08-29    Men  800 m   21  \n",
       "2  Berlin 2010-08-22    Men  800 m   21  \n",
       "3    Köln 1997-08-24    Men  800 m   26  \n",
       "4  Zürich 1997-08-13    Men  800 m   26  "
      ]
     },
     "execution_count": 33,
     "metadata": {},
     "output_type": "execute_result"
    }
   ],
   "source": [
    "# Age column\n",
    "def get_age():\n",
    "    df['Date'] = pd.to_datetime(df.Date)\n",
    "    df['Date of Birth'] = pd.to_datetime(df['Date of Birth'])\n",
    "    df['Age'] = (df['Date']-df['Date of Birth']).apply(lambda i: int(i.days/365))\n",
    "    return df\n",
    "\n",
    "get_age().head()"
   ]
  },
  {
   "cell_type": "code",
   "execution_count": 34,
   "id": "minor-privilege",
   "metadata": {},
   "outputs": [
    {
     "data": {
      "text/plain": [
       "0    23\n",
       "1    21\n",
       "2    21\n",
       "3    26\n",
       "4    26\n",
       "5    22\n",
       "6    21\n",
       "7    23\n",
       "8    25\n",
       "9    26\n",
       "Name: Age, dtype: int64"
      ]
     },
     "execution_count": 34,
     "metadata": {},
     "output_type": "execute_result"
    }
   ],
   "source": [
    "df.Age.head(10)"
   ]
  },
  {
   "cell_type": "code",
   "execution_count": 35,
   "id": "confirmed-tumor",
   "metadata": {},
   "outputs": [
    {
     "data": {
      "text/plain": [
       "25.522692392019295"
      ]
     },
     "execution_count": 35,
     "metadata": {},
     "output_type": "execute_result"
    }
   ],
   "source": [
    "# What is the average age?\n",
    "df.Age.mean()"
   ]
  },
  {
   "cell_type": "code",
   "execution_count": 36,
   "id": "proprietary-receiver",
   "metadata": {},
   "outputs": [
    {
     "data": {
      "text/html": [
       "<div>\n",
       "<style scoped>\n",
       "    .dataframe tbody tr th:only-of-type {\n",
       "        vertical-align: middle;\n",
       "    }\n",
       "\n",
       "    .dataframe tbody tr th {\n",
       "        vertical-align: top;\n",
       "    }\n",
       "\n",
       "    .dataframe thead th {\n",
       "        text-align: right;\n",
       "    }\n",
       "</style>\n",
       "<table border=\"1\" class=\"dataframe\">\n",
       "  <thead>\n",
       "    <tr style=\"text-align: right;\">\n",
       "      <th></th>\n",
       "      <th>Rank</th>\n",
       "      <th>Place</th>\n",
       "      <th>Age</th>\n",
       "    </tr>\n",
       "  </thead>\n",
       "  <tbody>\n",
       "    <tr>\n",
       "      <th>count</th>\n",
       "      <td>18244.000000</td>\n",
       "      <td>18236.000000</td>\n",
       "      <td>18244.000000</td>\n",
       "    </tr>\n",
       "    <tr>\n",
       "      <th>mean</th>\n",
       "      <td>500.875576</td>\n",
       "      <td>2.547763</td>\n",
       "      <td>25.522692</td>\n",
       "    </tr>\n",
       "    <tr>\n",
       "      <th>std</th>\n",
       "      <td>289.571956</td>\n",
       "      <td>2.156191</td>\n",
       "      <td>4.156068</td>\n",
       "    </tr>\n",
       "    <tr>\n",
       "      <th>min</th>\n",
       "      <td>1.000000</td>\n",
       "      <td>1.000000</td>\n",
       "      <td>11.000000</td>\n",
       "    </tr>\n",
       "    <tr>\n",
       "      <th>25%</th>\n",
       "      <td>250.000000</td>\n",
       "      <td>1.000000</td>\n",
       "      <td>22.000000</td>\n",
       "    </tr>\n",
       "  </tbody>\n",
       "</table>\n",
       "</div>"
      ],
      "text/plain": [
       "               Rank         Place           Age\n",
       "count  18244.000000  18236.000000  18244.000000\n",
       "mean     500.875576      2.547763     25.522692\n",
       "std      289.571956      2.156191      4.156068\n",
       "min        1.000000      1.000000     11.000000\n",
       "25%      250.000000      1.000000     22.000000"
      ]
     },
     "execution_count": 36,
     "metadata": {},
     "output_type": "execute_result"
    }
   ],
   "source": [
    "# Let's see some stastical data\n",
    "df.describe().head()"
   ]
  },
  {
   "cell_type": "markdown",
   "id": "buried-shirt",
   "metadata": {},
   "source": [
    "### 200 Meters\n",
    "Exploring the 200 m event"
   ]
  },
  {
   "cell_type": "code",
   "execution_count": 37,
   "id": "tracked-sight",
   "metadata": {},
   "outputs": [
    {
     "data": {
      "text/html": [
       "<div>\n",
       "<style scoped>\n",
       "    .dataframe tbody tr th:only-of-type {\n",
       "        vertical-align: middle;\n",
       "    }\n",
       "\n",
       "    .dataframe tbody tr th {\n",
       "        vertical-align: top;\n",
       "    }\n",
       "\n",
       "    .dataframe thead th {\n",
       "        text-align: right;\n",
       "    }\n",
       "</style>\n",
       "<table border=\"1\" class=\"dataframe\">\n",
       "  <thead>\n",
       "    <tr style=\"text-align: right;\">\n",
       "      <th></th>\n",
       "      <th>Rank</th>\n",
       "      <th>Time</th>\n",
       "      <th>Name</th>\n",
       "      <th>Country</th>\n",
       "      <th>Date of Birth</th>\n",
       "      <th>Place</th>\n",
       "      <th>City</th>\n",
       "      <th>Date</th>\n",
       "      <th>Gender</th>\n",
       "      <th>Event</th>\n",
       "      <th>Age</th>\n",
       "    </tr>\n",
       "  </thead>\n",
       "  <tbody>\n",
       "    <tr>\n",
       "      <th>9191</th>\n",
       "      <td>1</td>\n",
       "      <td>00:00:21.340000</td>\n",
       "      <td>Florence Griffith-Joyner</td>\n",
       "      <td>USA</td>\n",
       "      <td>1959-12-21</td>\n",
       "      <td>1.0</td>\n",
       "      <td>Seoul</td>\n",
       "      <td>1988-09-29</td>\n",
       "      <td>Women</td>\n",
       "      <td>200 m</td>\n",
       "      <td>28</td>\n",
       "    </tr>\n",
       "    <tr>\n",
       "      <th>9192</th>\n",
       "      <td>2</td>\n",
       "      <td>00:00:21.560000</td>\n",
       "      <td>Florence Griffith-Joyner</td>\n",
       "      <td>USA</td>\n",
       "      <td>1959-12-21</td>\n",
       "      <td>1.0</td>\n",
       "      <td>Seoul</td>\n",
       "      <td>1988-09-29</td>\n",
       "      <td>Women</td>\n",
       "      <td>200 m</td>\n",
       "      <td>28</td>\n",
       "    </tr>\n",
       "    <tr>\n",
       "      <th>9193</th>\n",
       "      <td>3</td>\n",
       "      <td>00:00:21.620000</td>\n",
       "      <td>Marion Jones</td>\n",
       "      <td>USA</td>\n",
       "      <td>1975-10-12</td>\n",
       "      <td>1.0</td>\n",
       "      <td>Johannesburg</td>\n",
       "      <td>1998-09-11</td>\n",
       "      <td>Women</td>\n",
       "      <td>200 m</td>\n",
       "      <td>22</td>\n",
       "    </tr>\n",
       "    <tr>\n",
       "      <th>9194</th>\n",
       "      <td>4</td>\n",
       "      <td>00:00:21.630000</td>\n",
       "      <td>Dafne Schippers</td>\n",
       "      <td>NED</td>\n",
       "      <td>1992-06-15</td>\n",
       "      <td>1.0</td>\n",
       "      <td>Beijing</td>\n",
       "      <td>2015-08-28</td>\n",
       "      <td>Women</td>\n",
       "      <td>200 m</td>\n",
       "      <td>23</td>\n",
       "    </tr>\n",
       "    <tr>\n",
       "      <th>9195</th>\n",
       "      <td>5</td>\n",
       "      <td>00:00:21.640000</td>\n",
       "      <td>Merlene Ottey</td>\n",
       "      <td>JAM</td>\n",
       "      <td>1960-05-10</td>\n",
       "      <td>1.0</td>\n",
       "      <td>Bruxelles</td>\n",
       "      <td>1991-09-13</td>\n",
       "      <td>Women</td>\n",
       "      <td>200 m</td>\n",
       "      <td>31</td>\n",
       "    </tr>\n",
       "    <tr>\n",
       "      <th>...</th>\n",
       "      <td>...</td>\n",
       "      <td>...</td>\n",
       "      <td>...</td>\n",
       "      <td>...</td>\n",
       "      <td>...</td>\n",
       "      <td>...</td>\n",
       "      <td>...</td>\n",
       "      <td>...</td>\n",
       "      <td>...</td>\n",
       "      <td>...</td>\n",
       "      <td>...</td>\n",
       "    </tr>\n",
       "    <tr>\n",
       "      <th>10199</th>\n",
       "      <td>973</td>\n",
       "      <td>00:00:22.450000</td>\n",
       "      <td>Dafne Schippers</td>\n",
       "      <td>NED</td>\n",
       "      <td>1992-06-15</td>\n",
       "      <td>1.0</td>\n",
       "      <td>Iráklio</td>\n",
       "      <td>2015-06-21</td>\n",
       "      <td>Women</td>\n",
       "      <td>200 m</td>\n",
       "      <td>23</td>\n",
       "    </tr>\n",
       "    <tr>\n",
       "      <th>10200</th>\n",
       "      <td>973</td>\n",
       "      <td>00:00:22.450000</td>\n",
       "      <td>Candyce McGrone</td>\n",
       "      <td>USA</td>\n",
       "      <td>1989-03-24</td>\n",
       "      <td>1.0</td>\n",
       "      <td>Beijing</td>\n",
       "      <td>2015-08-26</td>\n",
       "      <td>Women</td>\n",
       "      <td>200 m</td>\n",
       "      <td>26</td>\n",
       "    </tr>\n",
       "    <tr>\n",
       "      <th>10201</th>\n",
       "      <td>973</td>\n",
       "      <td>00:00:22.450000</td>\n",
       "      <td>Deajah Stevens</td>\n",
       "      <td>USA</td>\n",
       "      <td>1995-05-19</td>\n",
       "      <td>1.0</td>\n",
       "      <td>Eugene</td>\n",
       "      <td>2016-07-09</td>\n",
       "      <td>Women</td>\n",
       "      <td>200 m</td>\n",
       "      <td>21</td>\n",
       "    </tr>\n",
       "    <tr>\n",
       "      <th>10202</th>\n",
       "      <td>973</td>\n",
       "      <td>00:00:22.450000</td>\n",
       "      <td>Deajah Stevens</td>\n",
       "      <td>USA</td>\n",
       "      <td>1995-05-19</td>\n",
       "      <td>1.0</td>\n",
       "      <td>Rio de Janeiro</td>\n",
       "      <td>2016-08-15</td>\n",
       "      <td>Women</td>\n",
       "      <td>200 m</td>\n",
       "      <td>21</td>\n",
       "    </tr>\n",
       "    <tr>\n",
       "      <th>10203</th>\n",
       "      <td>973</td>\n",
       "      <td>00:00:22.450000</td>\n",
       "      <td>Dafne Schippers</td>\n",
       "      <td>NED</td>\n",
       "      <td>1992-06-15</td>\n",
       "      <td>2.0</td>\n",
       "      <td>Ad-Dawhah</td>\n",
       "      <td>2017-05-05</td>\n",
       "      <td>Women</td>\n",
       "      <td>200 m</td>\n",
       "      <td>24</td>\n",
       "    </tr>\n",
       "  </tbody>\n",
       "</table>\n",
       "<p>1013 rows × 11 columns</p>\n",
       "</div>"
      ],
      "text/plain": [
       "       Rank             Time                      Name Country Date of Birth  \\\n",
       "9191      1  00:00:21.340000  Florence Griffith-Joyner     USA    1959-12-21   \n",
       "9192      2  00:00:21.560000  Florence Griffith-Joyner     USA    1959-12-21   \n",
       "9193      3  00:00:21.620000              Marion Jones     USA    1975-10-12   \n",
       "9194      4  00:00:21.630000           Dafne Schippers     NED    1992-06-15   \n",
       "9195      5  00:00:21.640000             Merlene Ottey     JAM    1960-05-10   \n",
       "...     ...              ...                       ...     ...           ...   \n",
       "10199   973  00:00:22.450000           Dafne Schippers     NED    1992-06-15   \n",
       "10200   973  00:00:22.450000           Candyce McGrone     USA    1989-03-24   \n",
       "10201   973  00:00:22.450000            Deajah Stevens     USA    1995-05-19   \n",
       "10202   973  00:00:22.450000            Deajah Stevens     USA    1995-05-19   \n",
       "10203   973  00:00:22.450000           Dafne Schippers     NED    1992-06-15   \n",
       "\n",
       "       Place            City       Date Gender  Event  Age  \n",
       "9191     1.0           Seoul 1988-09-29  Women  200 m   28  \n",
       "9192     1.0           Seoul 1988-09-29  Women  200 m   28  \n",
       "9193     1.0    Johannesburg 1998-09-11  Women  200 m   22  \n",
       "9194     1.0         Beijing 2015-08-28  Women  200 m   23  \n",
       "9195     1.0       Bruxelles 1991-09-13  Women  200 m   31  \n",
       "...      ...             ...        ...    ...    ...  ...  \n",
       "10199    1.0         Iráklio 2015-06-21  Women  200 m   23  \n",
       "10200    1.0         Beijing 2015-08-26  Women  200 m   26  \n",
       "10201    1.0          Eugene 2016-07-09  Women  200 m   21  \n",
       "10202    1.0  Rio de Janeiro 2016-08-15  Women  200 m   21  \n",
       "10203    2.0       Ad-Dawhah 2017-05-05  Women  200 m   24  \n",
       "\n",
       "[1013 rows x 11 columns]"
      ]
     },
     "execution_count": 37,
     "metadata": {},
     "output_type": "execute_result"
    }
   ],
   "source": [
    "df[df.Event == '200 m'].loc[df.Gender == 'Women']"
   ]
  },
  {
   "cell_type": "code",
   "execution_count": 38,
   "id": "alert-badge",
   "metadata": {},
   "outputs": [],
   "source": [
    "# Medals won by women in the 200 m event for each country\n",
    "women_medal = df[df.Event == '200 m'].loc[df.Place <= 3.0].loc[df.Gender == 'Women'].groupby(['Country'], as_index=False).size()"
   ]
  },
  {
   "cell_type": "code",
   "execution_count": 39,
   "id": "unlikely-peeing",
   "metadata": {},
   "outputs": [
    {
     "name": "stdout",
     "output_type": "stream",
     "text": [
      "   Country  size\n",
      "10     FRA    30\n",
      "13     GDR    64\n",
      "15     GER    52\n",
      "16     JAM   193\n",
      "23     RUS    78\n",
      "29     USA   350\n"
     ]
    }
   ],
   "source": [
    "# Countries with more than 15 medals in the 200 meters \n",
    "country_200 = women_medal[women_medal['size'] > 25]\n",
    "print(country_200)"
   ]
  },
  {
   "cell_type": "code",
   "execution_count": 40,
   "id": "twenty-honey",
   "metadata": {},
   "outputs": [
    {
     "name": "stdout",
     "output_type": "stream",
     "text": [
      "   Country  Place  size\n",
      "28     GDR    1.0    50\n",
      "33     GER    1.0    32\n",
      "36     JAM    1.0   121\n",
      "37     JAM    2.0    45\n",
      "38     JAM    3.0    27\n",
      "50     RUS    1.0    38\n",
      "51     RUS    2.0    26\n",
      "62     USA    1.0   238\n",
      "63     USA    2.0    85\n",
      "64     USA    3.0    27\n"
     ]
    }
   ],
   "source": [
    "# Summing the medals - Bronze, Silver, Gold\n",
    "sum_wom_med = df[[\"Country\",\"Place\"]][df[\"Place\"] <= 3].loc[df.Gender == 'Women'].loc[df.Event == '200 m'].groupby([\"Country\",\"Place\"],as_index=False).size()\n",
    "wom_25 = sum_wom_med[sum_wom_med['size'] > 25]\n",
    "print(wom_25)"
   ]
  },
  {
   "cell_type": "code",
   "execution_count": 41,
   "id": "organizational-particular",
   "metadata": {},
   "outputs": [
    {
     "data": {
      "image/png": "[encoded data removed]",
      "text/plain": [
       "<Figure size 411.875x360 with 1 Axes>"
      ]
     },
     "metadata": {},
     "output_type": "display_data"
    }
   ],
   "source": [
    "# Plotting the data - idea from Alex Wittmann\n",
    "graph_w = sns.catplot(\n",
    "    data=wom_25, kind=\"bar\",\n",
    "    palette ={1.0: \"#af9500\", 2.0: \"#b4b4b4\", 3.0: \"#6a3805\"},\n",
    "    x=\"Country\", y=\"size\", hue=\"Place\",)\n",
    "graph_w.despine(left=True)\n",
    "graph_w.set_axis_labels(\"Country\", \"Medals\")\n",
    "graph_w.fig.suptitle(\"Countries with more than 25 medals - Women\");"
   ]
  },
  {
   "cell_type": "code",
   "execution_count": 42,
   "id": "serial-politics",
   "metadata": {},
   "outputs": [],
   "source": [
    "# Age distribution - 200 m Women\n",
    "age_dist = df['Age'][df.Gender == 'Women'].loc[df.Event == '200 m']"
   ]
  },
  {
   "cell_type": "code",
   "execution_count": 43,
   "id": "bearing-extraction",
   "metadata": {},
   "outputs": [
    {
     "data": {
      "image/png": "[encoded data removed]",
      "text/plain": [
       "<Figure size 360x360 with 1 Axes>"
      ]
     },
     "metadata": {},
     "output_type": "display_data"
    }
   ],
   "source": [
    "graph_age = sns.displot(age_dist, kde=True)"
   ]
  },
  {
   "cell_type": "markdown",
   "id": "rental-wireless",
   "metadata": {},
   "source": [
    "### 100 meters\n",
    "Exploring some data from the 100 m event"
   ]
  },
  {
   "cell_type": "code",
   "execution_count": 44,
   "id": "vertical-technician",
   "metadata": {},
   "outputs": [
    {
     "data": {
      "text/html": [
       "<div>\n",
       "<style scoped>\n",
       "    .dataframe tbody tr th:only-of-type {\n",
       "        vertical-align: middle;\n",
       "    }\n",
       "\n",
       "    .dataframe tbody tr th {\n",
       "        vertical-align: top;\n",
       "    }\n",
       "\n",
       "    .dataframe thead th {\n",
       "        text-align: right;\n",
       "    }\n",
       "</style>\n",
       "<table border=\"1\" class=\"dataframe\">\n",
       "  <thead>\n",
       "    <tr style=\"text-align: right;\">\n",
       "      <th></th>\n",
       "      <th>Rank</th>\n",
       "      <th>Time</th>\n",
       "      <th>Name</th>\n",
       "      <th>Country</th>\n",
       "      <th>Date of Birth</th>\n",
       "      <th>Place</th>\n",
       "      <th>City</th>\n",
       "      <th>Date</th>\n",
       "      <th>Gender</th>\n",
       "      <th>Event</th>\n",
       "      <th>Age</th>\n",
       "    </tr>\n",
       "  </thead>\n",
       "  <tbody>\n",
       "    <tr>\n",
       "      <th>6088</th>\n",
       "      <td>1</td>\n",
       "      <td>00:00:09.580000</td>\n",
       "      <td>Usain Bolt</td>\n",
       "      <td>JAM</td>\n",
       "      <td>1986-08-21</td>\n",
       "      <td>1.0</td>\n",
       "      <td>Berlin</td>\n",
       "      <td>2009-08-16</td>\n",
       "      <td>Men</td>\n",
       "      <td>100 m</td>\n",
       "      <td>23</td>\n",
       "    </tr>\n",
       "    <tr>\n",
       "      <th>6089</th>\n",
       "      <td>2</td>\n",
       "      <td>00:00:09.630000</td>\n",
       "      <td>Usain Bolt</td>\n",
       "      <td>JAM</td>\n",
       "      <td>1986-08-21</td>\n",
       "      <td>1.0</td>\n",
       "      <td>London</td>\n",
       "      <td>2012-08-05</td>\n",
       "      <td>Men</td>\n",
       "      <td>100 m</td>\n",
       "      <td>25</td>\n",
       "    </tr>\n",
       "    <tr>\n",
       "      <th>6090</th>\n",
       "      <td>3</td>\n",
       "      <td>00:00:09.690000</td>\n",
       "      <td>Usain Bolt</td>\n",
       "      <td>JAM</td>\n",
       "      <td>1986-08-21</td>\n",
       "      <td>1.0</td>\n",
       "      <td>Beijing</td>\n",
       "      <td>2008-08-16</td>\n",
       "      <td>Men</td>\n",
       "      <td>100 m</td>\n",
       "      <td>22</td>\n",
       "    </tr>\n",
       "    <tr>\n",
       "      <th>6091</th>\n",
       "      <td>3</td>\n",
       "      <td>00:00:09.690000</td>\n",
       "      <td>Tyson Gay</td>\n",
       "      <td>USA</td>\n",
       "      <td>1982-08-09</td>\n",
       "      <td>1.0</td>\n",
       "      <td>Shanghai</td>\n",
       "      <td>2009-09-20</td>\n",
       "      <td>Men</td>\n",
       "      <td>100 m</td>\n",
       "      <td>27</td>\n",
       "    </tr>\n",
       "    <tr>\n",
       "      <th>6092</th>\n",
       "      <td>3</td>\n",
       "      <td>00:00:09.690000</td>\n",
       "      <td>Yohan Blake</td>\n",
       "      <td>JAM</td>\n",
       "      <td>1989-12-26</td>\n",
       "      <td>1.0</td>\n",
       "      <td>Lausanne</td>\n",
       "      <td>2012-08-23</td>\n",
       "      <td>Men</td>\n",
       "      <td>100 m</td>\n",
       "      <td>22</td>\n",
       "    </tr>\n",
       "  </tbody>\n",
       "</table>\n",
       "</div>"
      ],
      "text/plain": [
       "      Rank             Time         Name Country Date of Birth  Place  \\\n",
       "6088     1  00:00:09.580000   Usain Bolt     JAM    1986-08-21    1.0   \n",
       "6089     2  00:00:09.630000   Usain Bolt     JAM    1986-08-21    1.0   \n",
       "6090     3  00:00:09.690000   Usain Bolt     JAM    1986-08-21    1.0   \n",
       "6091     3  00:00:09.690000    Tyson Gay     USA    1982-08-09    1.0   \n",
       "6092     3  00:00:09.690000  Yohan Blake     JAM    1989-12-26    1.0   \n",
       "\n",
       "          City       Date Gender  Event  Age  \n",
       "6088    Berlin 2009-08-16    Men  100 m   23  \n",
       "6089    London 2012-08-05    Men  100 m   25  \n",
       "6090   Beijing 2008-08-16    Men  100 m   22  \n",
       "6091  Shanghai 2009-09-20    Men  100 m   27  \n",
       "6092  Lausanne 2012-08-23    Men  100 m   22  "
      ]
     },
     "execution_count": 44,
     "metadata": {},
     "output_type": "execute_result"
    }
   ],
   "source": [
    "df[df.Event == '100 m'].loc[df.Gender == 'Men'].head()"
   ]
  },
  {
   "cell_type": "code",
   "execution_count": 45,
   "id": "difficult-notion",
   "metadata": {
    "scrolled": true
   },
   "outputs": [
    {
     "name": "stdout",
     "output_type": "stream",
     "text": [
      "   Country  size\n",
      "0      AHO     4\n",
      "1      ANT     9\n",
      "2      AUS     1\n",
      "3      BAH     4\n",
      "4      BAR     6\n",
      "5      CAN    34\n",
      "6      CAY     1\n",
      "7      CHN     1\n",
      "8      CIV     6\n",
      "9      CUB     1\n",
      "10     FRA    25\n",
      "11     GBR    30\n",
      "12     GER     1\n",
      "13     GHA     9\n",
      "14     ITA     1\n",
      "15     JAM   262\n",
      "16     JPN     3\n",
      "17     NAM    27\n",
      "18     NED     2\n",
      "19     NGR    29\n",
      "20     NOR     1\n",
      "21     POL     1\n",
      "22     POR     5\n",
      "23     QAT    11\n",
      "24     RSA    19\n",
      "25     SKN    19\n",
      "26     TTO    68\n",
      "27     TUR     2\n",
      "28     USA   409\n",
      "29     ZAM     1\n",
      "30     ZIM     3\n"
     ]
    }
   ],
   "source": [
    "# Medals won by men in the 100 m event for each country\n",
    "men_medal = df[df.Event == '100 m'].loc[df.Place <= 3.0].loc[df.Gender == 'Men'].groupby(['Country'], as_index=False).size()\n",
    "print(men_medal)"
   ]
  },
  {
   "cell_type": "code",
   "execution_count": 46,
   "id": "weighted-teach",
   "metadata": {},
   "outputs": [
    {
     "name": "stdout",
     "output_type": "stream",
     "text": [
      "   Country  size\n",
      "5      CAN    34\n",
      "10     FRA    25\n",
      "11     GBR    30\n",
      "15     JAM   262\n",
      "17     NAM    27\n",
      "19     NGR    29\n",
      "24     RSA    19\n",
      "25     SKN    19\n",
      "26     TTO    68\n",
      "28     USA   409\n"
     ]
    }
   ],
   "source": [
    "# Countries with more than 15 medals in the 100 meters \n",
    "country_100 = men_medal[men_medal['size'] > 15]\n",
    "print(country_100)"
   ]
  },
  {
   "cell_type": "code",
   "execution_count": 47,
   "id": "recent-attraction",
   "metadata": {},
   "outputs": [
    {
     "name": "stdout",
     "output_type": "stream",
     "text": [
      "   Country  Place  size\n",
      "23     GBR    1.0    18\n",
      "31     JAM    1.0   175\n",
      "32     JAM    2.0    58\n",
      "33     JAM    3.0    29\n",
      "35     NAM    1.0    20\n",
      "40     NGR    1.0    19\n",
      "56     TTO    1.0    42\n",
      "57     TTO    2.0    16\n",
      "60     USA    1.0   267\n",
      "61     USA    2.0   100\n",
      "62     USA    3.0    42\n"
     ]
    }
   ],
   "source": [
    "# Summing the medals - bronze, silver, gold\n",
    "sum_men_med = df[[\"Country\",\"Place\"]][df[\"Place\"] <= 3].loc[df.Gender == 'Men'].loc[df.Event == '100 m'].groupby([\"Country\",\"Place\"],as_index=False).size()\n",
    "men_15 = sum_men_med[sum_men_med['size'] > 15]\n",
    "print(men_15)"
   ]
  },
  {
   "cell_type": "code",
   "execution_count": 48,
   "id": "annual-electron",
   "metadata": {},
   "outputs": [
    {
     "data": {
      "image/png": "[encoded data removed]",
      "text/plain": [
       "<Figure size 411.875x360 with 1 Axes>"
      ]
     },
     "metadata": {},
     "output_type": "display_data"
    }
   ],
   "source": [
    "# Plotting the data\n",
    "graph_men = sns.catplot(\n",
    "    data=men_15, kind=\"bar\",\n",
    "    palette ={1.0: \"#af9500\", 2.0: \"#b4b4b4\", 3.0: \"#6a3805\"},\n",
    "    x=\"Country\", y=\"size\", hue=\"Place\",)\n",
    "graph_men.despine(left=True)\n",
    "graph_men.set_axis_labels(\"Country\", \"Medals\")\n",
    "graph_men.fig.suptitle(\"Countries with more than 15 medals - Men\");"
   ]
  },
  {
   "cell_type": "code",
   "execution_count": 49,
   "id": "intellectual-theta",
   "metadata": {},
   "outputs": [
    {
     "data": {
      "image/png": "[encoded data removed]",
      "text/plain": [
       "<Figure size 360x360 with 1 Axes>"
      ]
     },
     "metadata": {},
     "output_type": "display_data"
    }
   ],
   "source": [
    "# Age distribution - 100 m Men\n",
    "age_dist_men_100 = df['Age'][df.Event == '100 m'].loc[df.Gender == 'Men'] \n",
    "graph_age_men = sns.displot(age_dist_men_100, kde=True)"
   ]
  },
  {
   "cell_type": "code",
   "execution_count": null,
   "id": "adult-sunglasses",
   "metadata": {},
   "outputs": [],
   "source": []
  }
 ],
 "metadata": {
  "kernelspec": {
   "display_name": "Python 3",
   "language": "python",
   "name": "python3"
  },
  "language_info": {
   "codemirror_mode": {
    "name": "ipython",
    "version": 3
   },
   "file_extension": ".py",
   "mimetype": "text/x-python",
   "name": "python",
   "nbconvert_exporter": "python",
   "pygments_lexer": "ipython3",
   "version": "3.9.2"
  }
 },
 "nbformat": 4,
 "nbformat_minor": 5
}
